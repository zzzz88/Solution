{
 "cells": [
  {
   "cell_type": "code",
   "execution_count": 1,
   "metadata": {
    "collapsed": false
   },
   "outputs": [
    {
     "name": "stdout",
     "output_type": "stream",
     "text": [
      "<class 'pandas.core.frame.DataFrame'>\n",
      "RangeIndex: 205 entries, 0 to 204\n",
      "Data columns (total 26 columns):\n",
      "symboling            205 non-null int64\n",
      "normalized-losses    205 non-null object\n",
      "make                 205 non-null object\n",
      "fuel-type            205 non-null object\n",
      "aspiration           205 non-null object\n",
      "num-of-doors         205 non-null object\n",
      "body-style           205 non-null object\n",
      "drive-wheels         205 non-null object\n",
      "engine-location      205 non-null object\n",
      "wheel-base           205 non-null float64\n",
      "length               205 non-null float64\n",
      "width                205 non-null float64\n",
      "height               205 non-null float64\n",
      "curb-weight          205 non-null int64\n",
      "engine-type          205 non-null object\n",
      "num-of-cylinders     205 non-null object\n",
      "engine-size          205 non-null int64\n",
      "fuel-system          205 non-null object\n",
      "bore                 205 non-null object\n",
      "stroke               205 non-null object\n",
      "compression-rate     205 non-null float64\n",
      "horsepower           205 non-null object\n",
      "peak-rpm             205 non-null object\n",
      "city-mpg             205 non-null int64\n",
      "highway-mpg          205 non-null int64\n",
      "price                205 non-null object\n",
      "dtypes: float64(5), int64(5), object(16)\n",
      "memory usage: 41.7+ KB\n"
     ]
    }
   ],
   "source": [
    "import pandas as pd\n",
    "import numpy as np\n",
    "cars = pd.read_csv('imports-85.data')\n",
    "cols = ['symboling', 'normalized-losses', 'make', 'fuel-type', 'aspiration', 'num-of-doors', 'body-style', \n",
    "        'drive-wheels', 'engine-location', 'wheel-base', 'length', 'width', 'height', 'curb-weight', 'engine-type', \n",
    "        'num-of-cylinders', 'engine-size', 'fuel-system', 'bore', 'stroke', 'compression-rate', 'horsepower', 'peak-rpm', 'city-mpg', 'highway-mpg', 'price']\n",
    "cars = pd.read_csv('imports-85.data', names=cols)\n",
    "cars.info()\n",
    "cars.head()\n",
    "cars = cars.replace('?',np.nan)"
   ]
  },
  {
   "cell_type": "code",
   "execution_count": 2,
   "metadata": {
    "collapsed": false
   },
   "outputs": [
    {
     "data": {
      "text/plain": [
       "symboling             0\n",
       "normalized-losses    37\n",
       "make                  0\n",
       "fuel-type             0\n",
       "aspiration            0\n",
       "num-of-doors          2\n",
       "body-style            0\n",
       "drive-wheels          0\n",
       "engine-location       0\n",
       "wheel-base            0\n",
       "length                0\n",
       "width                 0\n",
       "height                0\n",
       "curb-weight           0\n",
       "engine-type           0\n",
       "num-of-cylinders      0\n",
       "engine-size           0\n",
       "fuel-system           0\n",
       "bore                  4\n",
       "stroke                4\n",
       "compression-rate      0\n",
       "horsepower            2\n",
       "peak-rpm              2\n",
       "city-mpg              0\n",
       "highway-mpg           0\n",
       "price                 0\n",
       "dtype: int64"
      ]
     },
     "execution_count": 2,
     "metadata": {},
     "output_type": "execute_result"
    }
   ],
   "source": [
    "cars.isnull().sum()\n",
    "cars = cars.dropna(subset=['price'])\n",
    "\n",
    "cars.isnull().sum()\n",
    "\n"
   ]
  },
  {
   "cell_type": "code",
   "execution_count": null,
   "metadata": {
    "collapsed": false
   },
   "outputs": [],
   "source": []
  },
  {
   "cell_type": "code",
   "execution_count": 3,
   "metadata": {
    "collapsed": false
   },
   "outputs": [
    {
     "data": {
      "text/plain": [
       "normalized-losses    0\n",
       "wheel-base           0\n",
       "length               0\n",
       "width                0\n",
       "height               0\n",
       "curb-weight          0\n",
       "bore                 0\n",
       "stroke               0\n",
       "compression-rate     0\n",
       "horsepower           0\n",
       "peak-rpm             0\n",
       "city-mpg             0\n",
       "highway-mpg          0\n",
       "price                0\n",
       "dtype: int64"
      ]
     },
     "execution_count": 3,
     "metadata": {},
     "output_type": "execute_result"
    }
   ],
   "source": [
    "selected_columns = ['normalized-losses','wheel-base', 'length', 'width', 'height', 'curb-weight',\n",
    "                   'bore','stroke','compression-rate','horsepower', 'peak-rpm', 'city-mpg', 'highway-mpg', 'price']\n",
    "cars = cars[selected_columns]\n",
    "cars=cars.astype(float)\n",
    "cars = cars.fillna(cars.mean())\n",
    "\n",
    "cars.isnull().sum()\n"
   ]
  },
  {
   "cell_type": "code",
   "execution_count": 4,
   "metadata": {
    "collapsed": false
   },
   "outputs": [
    {
     "data": {
      "text/plain": [
       "bore                 0\n",
       "city-mpg             0\n",
       "compression-rate     0\n",
       "curb-weight          0\n",
       "height               0\n",
       "highway-mpg          0\n",
       "horsepower           0\n",
       "length               0\n",
       "normalized-losses    0\n",
       "peak-rpm             0\n",
       "price                0\n",
       "stroke               0\n",
       "wheel-base           0\n",
       "width                0\n",
       "dtype: int64"
      ]
     },
     "execution_count": 4,
     "metadata": {},
     "output_type": "execute_result"
    }
   ],
   "source": [
    "cars_mean = np.mean(cars,axis =0)\n",
    "cars_max = np.max(cars,axis =0)\n",
    "cars_min = np.min(cars,axis =0)\n",
    "cars_std = np.std(cars,axis=0)\n",
    "predicted_column = cars.price\n",
    "cars = cars.drop(['price'],axis=1)\n",
    "cars_norm = (cars-cars_min)/(cars_max-cars_min)\n",
    "cars_norm['price'] = predicted_column\n",
    "cars = cars_norm\n",
    "cars.isnull().sum()\n"
   ]
  },
  {
   "cell_type": "code",
   "execution_count": 5,
   "metadata": {
    "collapsed": false
   },
   "outputs": [],
   "source": [
    "numeric_cars = cars"
   ]
  },
  {
   "cell_type": "code",
   "execution_count": 6,
   "metadata": {
    "collapsed": false
   },
   "outputs": [
    {
     "name": "stdout",
     "output_type": "stream",
     "text": [
      "bore\n",
      "city-mpg\n",
      "compression-rate\n",
      "curb-weight\n",
      "height\n",
      "highway-mpg\n",
      "horsepower\n",
      "length\n",
      "normalized-losses\n",
      "peak-rpm\n",
      "stroke\n",
      "wheel-base\n",
      "width\n"
     ]
    }
   ],
   "source": [
    "from sklearn.neighbors import KNeighborsRegressor\n",
    "from sklearn.metrics import mean_squared_error\n",
    "\n",
    "def knn_train_test(train_columns, target_columns, df):\n",
    "    np.random.seed(1)\n",
    "    random_index = np.random.permutation(df.index)\n",
    "    rand_df = df.reindex(random_index)\n",
    "    training_number = round(len(rand_df)/2)\n",
    "    training_data = rand_df.iloc[0:training_number]\n",
    "    test_data = rand_df.iloc[training_number:]\n",
    "    k_rmse ={}\n",
    "    k_value = [1,3,5,7,9]\n",
    "    for i in k_value:\n",
    "        model = KNeighborsRegressor(n_neighbors =i)\n",
    "        model.fit(training_data[[train_columns]],training_data[target_columns])\n",
    "        predictions = model.predict(test_data[[train_columns]])\n",
    "        mse = mean_squared_error(predictions, test_data[target_columns])\n",
    "        rmse = np.sqrt(mse)\n",
    "        k_rmse[i] = rmse\n",
    "    return k_rmse\n",
    "columns = cars.columns.drop('price')\n",
    "k_rmse_result={}\n",
    "for value in columns:\n",
    "    print(value)\n",
    "    rmse_val= knn_train_test(value,'price',cars)\n",
    "    k_rmse_result[value] = rmse_val\n"
   ]
  },
  {
   "cell_type": "code",
   "execution_count": 7,
   "metadata": {
    "collapsed": false,
    "scrolled": true
   },
   "outputs": [
    {
     "data": {
      "text/plain": [
       "{'bore': {1: 8602.58848450066,\n",
       "  3: 6984.239489480916,\n",
       "  5: 6780.627784685976,\n",
       "  7: 6878.097965921532,\n",
       "  9: 6866.808502038413},\n",
       " 'city-mpg': {1: 5901.143574354764,\n",
       "  3: 4646.746408727155,\n",
       "  5: 4766.422505090134,\n",
       "  7: 5232.523034167316,\n",
       "  9: 5465.209492527533},\n",
       " 'compression-rate': {1: 8087.205346523092,\n",
       "  3: 7375.063685578359,\n",
       "  5: 6610.812153159129,\n",
       "  7: 6732.801282941515,\n",
       "  9: 7024.485525463435},\n",
       " 'curb-weight': {1: 5264.290230758878,\n",
       "  3: 5022.318011757233,\n",
       "  5: 4401.118254793124,\n",
       "  7: 4330.608104418053,\n",
       "  9: 4632.044474454401},\n",
       " 'height': {1: 8904.04645636071,\n",
       "  3: 8277.609643045525,\n",
       "  5: 8144.441042663747,\n",
       "  7: 7679.598124393773,\n",
       "  9: 7811.03606291223},\n",
       " 'highway-mpg': {1: 6025.594966720739,\n",
       "  3: 4617.305019788554,\n",
       "  5: 4630.026798588056,\n",
       "  7: 4796.061440186946,\n",
       "  9: 5278.358056953987},\n",
       " 'horsepower': {1: 4170.054848037801,\n",
       "  3: 4020.8492630885394,\n",
       "  5: 4037.0377131537603,\n",
       "  7: 4353.811860277134,\n",
       "  9: 4515.135617419103},\n",
       " 'length': {1: 4628.45550121557,\n",
       "  3: 5129.8358210721635,\n",
       "  5: 5427.2009608367125,\n",
       "  7: 5313.427720847974,\n",
       "  9: 5383.054514833446},\n",
       " 'normalized-losses': {1: 7846.750605148984,\n",
       "  3: 7500.5698123109905,\n",
       "  5: 7330.197653434445,\n",
       "  7: 7756.421586234123,\n",
       "  9: 7688.096096891432},\n",
       " 'peak-rpm': {1: 9511.480067750124,\n",
       "  3: 8537.550899973421,\n",
       "  5: 7697.4596964334805,\n",
       "  7: 7510.294160083481,\n",
       "  9: 7340.041341263401},\n",
       " 'stroke': {1: 9116.495955406906,\n",
       "  3: 7338.68466990294,\n",
       "  5: 8006.529544647101,\n",
       "  7: 7803.937796804327,\n",
       "  9: 7735.554366079291},\n",
       " 'wheel-base': {1: 4493.734068810494,\n",
       "  3: 5120.161506064513,\n",
       "  5: 5461.553997873057,\n",
       "  7: 5448.1070513823315,\n",
       "  9: 5738.405685192312},\n",
       " 'width': {1: 4559.257297950061,\n",
       "  3: 4606.413692169901,\n",
       "  5: 4704.482589704386,\n",
       "  7: 4571.485046194653,\n",
       "  9: 4652.914172067787}}"
      ]
     },
     "execution_count": 7,
     "metadata": {},
     "output_type": "execute_result"
    }
   ],
   "source": [
    "k_rmse_result\n"
   ]
  },
  {
   "cell_type": "code",
   "execution_count": 8,
   "metadata": {
    "collapsed": false
   },
   "outputs": [
    {
     "name": "stdout",
     "output_type": "stream",
     "text": [
      "dict_values([{1: 4559.257297950061, 3: 4606.413692169901, 9: 4652.914172067787, 5: 4704.482589704386, 7: 4571.485046194653}, {1: 4493.734068810494, 3: 5120.161506064513, 9: 5738.405685192312, 5: 5461.553997873057, 7: 5448.1070513823315}, {1: 7846.750605148984, 3: 7500.5698123109905, 9: 7688.096096891432, 5: 7330.197653434445, 7: 7756.421586234123}, {1: 8602.58848450066, 3: 6984.239489480916, 9: 6866.808502038413, 5: 6780.627784685976, 7: 6878.097965921532}, {1: 4628.45550121557, 3: 5129.8358210721635, 9: 5383.054514833446, 5: 5427.2009608367125, 7: 5313.427720847974}, {1: 9511.480067750124, 3: 8537.550899973421, 9: 7340.041341263401, 5: 7697.4596964334805, 7: 7510.294160083481}, {1: 5901.143574354764, 3: 4646.746408727155, 9: 5465.209492527533, 5: 4766.422505090134, 7: 5232.523034167316}, {1: 4170.054848037801, 3: 4020.8492630885394, 9: 4515.135617419103, 5: 4037.0377131537603, 7: 4353.811860277134}, {1: 6025.594966720739, 3: 4617.305019788554, 9: 5278.358056953987, 5: 4630.026798588056, 7: 4796.061440186946}, {1: 9116.495955406906, 3: 7338.68466990294, 9: 7735.554366079291, 5: 8006.529544647101, 7: 7803.937796804327}, {1: 8087.205346523092, 3: 7375.063685578359, 9: 7024.485525463435, 5: 6610.812153159129, 7: 6732.801282941515}, {1: 8904.04645636071, 3: 8277.609643045525, 9: 7811.03606291223, 5: 8144.441042663747, 7: 7679.598124393773}, {1: 5264.290230758878, 3: 5022.318011757233, 9: 4632.044474454401, 5: 4401.118254793124, 7: 4330.608104418053}])\n"
     ]
    }
   ],
   "source": [
    "import matplotlib.pyplot as plt\n",
    "%matplotlib inline\n",
    "print(k_rmse_result.values())\n",
    "\n"
   ]
  },
  {
   "cell_type": "code",
   "execution_count": 9,
   "metadata": {
    "collapsed": false
   },
   "outputs": [
    {
     "data": {
      "image/png": "[encoded data removed]",
      "text/plain": [
       "<matplotlib.figure.Figure at 0x7f43734a9940>"
      ]
     },
     "metadata": {},
     "output_type": "display_data"
    }
   ],
   "source": [
    "for k, value in k_rmse_result.items():\n",
    "  \n",
    "    x= sorted(value.keys())\n",
    "    y=[]\n",
    "   \n",
    "    for i in x:       \n",
    "        y_corresponse = value.get(i)\n",
    "        y.append(y_corresponse)\n",
    "    plt.plot(x,y)\n",
    "    plt.xlabel('K_Value')\n",
    "    plt.ylabel(\"RMSE\")\n",
    "  "
   ]
  },
  {
   "cell_type": "code",
   "execution_count": 10,
   "metadata": {
    "collapsed": false,
    "scrolled": true
   },
   "outputs": [
    {
     "data": {
      "text/plain": [
       "<matplotlib.collections.PathCollection at 0x7f4371469da0>"
      ]
     },
     "execution_count": 10,
     "metadata": {},
     "output_type": "execute_result"
    },
    {
     "data": {
      "image/png": "[encoded data removed]",
      "text/plain": [
       "<matplotlib.figure.Figure at 0x7f43734a9048>"
      ]
     },
     "metadata": {},
     "output_type": "display_data"
    }
   ],
   "source": [
    "plt.scatter(x,y)"
   ]
  },
  {
   "cell_type": "code",
   "execution_count": 11,
   "metadata": {
    "collapsed": false
   },
   "outputs": [
    {
     "data": {
      "text/plain": [
       "horsepower           4219.377860\n",
       "width                4618.910560\n",
       "curb-weight          4730.075815\n",
       "highway-mpg          5069.469256\n",
       "length               5176.394904\n",
       "city-mpg             5202.409003\n",
       "wheel-base           5252.392462\n",
       "compression-rate     7166.073599\n",
       "bore                 7222.472445\n",
       "normalized-losses    7624.407151\n",
       "stroke               8000.240467\n",
       "peak-rpm             8119.365233\n",
       "height               8163.346266\n",
       "dtype: float64"
      ]
     },
     "execution_count": 11,
     "metadata": {},
     "output_type": "execute_result"
    }
   ],
   "source": [
    "feature_avg_rmse = {}\n",
    "for k, value in k_rmse_result.items():\n",
    "    avg_rmse = np.mean(list(value.values()))\n",
    "    feature_avg_rmse[k] = avg_rmse\n",
    "feature_avg_rmse = pd.Series(feature_avg_rmse)\n",
    "feature_avg_rmse.sort_values()\n"
   ]
  },
  {
   "cell_type": "code",
   "execution_count": 12,
   "metadata": {
    "collapsed": false
   },
   "outputs": [
    {
     "data": {
      "text/plain": [
       "{'bore': {1: 8602.58848450066,\n",
       "  3: 6984.239489480916,\n",
       "  5: 6780.627784685976,\n",
       "  7: 6878.097965921532,\n",
       "  9: 6866.808502038413},\n",
       " 'city-mpg': {1: 5901.143574354764,\n",
       "  3: 4646.746408727155,\n",
       "  5: 4766.422505090134,\n",
       "  7: 5232.523034167316,\n",
       "  9: 5465.209492527533},\n",
       " 'compression-rate': {1: 8087.205346523092,\n",
       "  3: 7375.063685578359,\n",
       "  5: 6610.812153159129,\n",
       "  7: 6732.801282941515,\n",
       "  9: 7024.485525463435},\n",
       " 'curb-weight': {1: 5264.290230758878,\n",
       "  3: 5022.318011757233,\n",
       "  5: 4401.118254793124,\n",
       "  7: 4330.608104418053,\n",
       "  9: 4632.044474454401},\n",
       " 'height': {1: 8904.04645636071,\n",
       "  3: 8277.609643045525,\n",
       "  5: 8144.441042663747,\n",
       "  7: 7679.598124393773,\n",
       "  9: 7811.03606291223},\n",
       " 'highway-mpg': {1: 6025.594966720739,\n",
       "  3: 4617.305019788554,\n",
       "  5: 4630.026798588056,\n",
       "  7: 4796.061440186946,\n",
       "  9: 5278.358056953987},\n",
       " 'horsepower': {1: 4170.054848037801,\n",
       "  3: 4020.8492630885394,\n",
       "  5: 4037.0377131537603,\n",
       "  7: 4353.811860277134,\n",
       "  9: 4515.135617419103},\n",
       " 'length': {1: 4628.45550121557,\n",
       "  3: 5129.8358210721635,\n",
       "  5: 5427.2009608367125,\n",
       "  7: 5313.427720847974,\n",
       "  9: 5383.054514833446},\n",
       " 'normalized-losses': {1: 7846.750605148984,\n",
       "  3: 7500.5698123109905,\n",
       "  5: 7330.197653434445,\n",
       "  7: 7756.421586234123,\n",
       "  9: 7688.096096891432},\n",
       " 'peak-rpm': {1: 9511.480067750124,\n",
       "  3: 8537.550899973421,\n",
       "  5: 7697.4596964334805,\n",
       "  7: 7510.294160083481,\n",
       "  9: 7340.041341263401},\n",
       " 'stroke': {1: 9116.495955406906,\n",
       "  3: 7338.68466990294,\n",
       "  5: 8006.529544647101,\n",
       "  7: 7803.937796804327,\n",
       "  9: 7735.554366079291},\n",
       " 'wheel-base': {1: 4493.734068810494,\n",
       "  3: 5120.161506064513,\n",
       "  5: 5461.553997873057,\n",
       "  7: 5448.1070513823315,\n",
       "  9: 5738.405685192312},\n",
       " 'width': {1: 4559.257297950061,\n",
       "  3: 4606.413692169901,\n",
       "  5: 4704.482589704386,\n",
       "  7: 4571.485046194653,\n",
       "  9: 4652.914172067787}}"
      ]
     },
     "execution_count": 12,
     "metadata": {},
     "output_type": "execute_result"
    }
   ],
   "source": [
    " k_rmse_result\n"
   ]
  },
  {
   "cell_type": "code",
   "execution_count": 13,
   "metadata": {
    "collapsed": false
   },
   "outputs": [
    {
     "data": {
      "text/plain": [
       "{'five_best_feature': 3665.546673045813,\n",
       " 'four_best_feature': 3358.6915801682458,\n",
       " 'three_best_feature': 3305.9401397969677,\n",
       " 'two_best_feature': 3589.3132622073304}"
      ]
     },
     "execution_count": 13,
     "metadata": {},
     "output_type": "execute_result"
    }
   ],
   "source": [
    "def knn_train_test(train_columns, target_columns, df):\n",
    "    np.random.seed(1)\n",
    "    random_index = np.random.permutation(df.index)\n",
    "    rand_df = df.reindex(random_index)\n",
    "    training_number = round(len(rand_df)/2)\n",
    "    training_data = rand_df.iloc[0:training_number]\n",
    "    test_data = rand_df.iloc[training_number:]\n",
    "    model = KNeighborsRegressor(n_neighbors =5)\n",
    "    model.fit(training_data[train_columns],training_data[target_columns])\n",
    "    predictions = model.predict(test_data[train_columns])\n",
    "    mse = mean_squared_error(predictions, test_data[target_columns])\n",
    "    rmse = np.sqrt(mse)\n",
    "    return rmse\n",
    "k_rmse ={}\n",
    "two_best_feature = ['horsepower','width']\n",
    "rmse_val = knn_train_test(two_best_feature, 'price',cars)\n",
    "k_rmse['two_best_feature'] = rmse_val\n",
    "three_best_feature = ['horsepower','width','curb-weight']\n",
    "rmse_val = knn_train_test(three_best_feature, 'price',cars)\n",
    "k_rmse['three_best_feature'] = rmse_val\n",
    "four_best_feature = ['horsepower','width','curb-weight','highway-mpg']\n",
    "rmse_val = knn_train_test(four_best_feature, 'price',cars)\n",
    "k_rmse['four_best_feature'] = rmse_val\n",
    "five_best_feature = ['horsepower','width','curb-weight','highway-mpg','length']\n",
    "rmse_val = knn_train_test(five_best_feature, 'price',cars)\n",
    "k_rmse['five_best_feature'] = rmse_val\n",
    "k_rmse\n",
    "\n",
    "\n",
    "\n"
   ]
  },
  {
   "cell_type": "code",
   "execution_count": 24,
   "metadata": {
    "collapsed": false
   },
   "outputs": [
    {
     "name": "stdout",
     "output_type": "stream",
     "text": [
      "{'four_best_feature': {1: 2600.746383728188, 2: 2725.4325072335123, 3: 3108.8580314362966, 4: 3217.3135209486827, 5: 3358.6915801682458, 6: 3633.1687033129465, 7: 3896.127441396644, 8: 4002.8383900652543, 9: 4055.5309369929582, 10: 4128.67807741542, 11: 4249.827289347268, 12: 4344.035898237492, 13: 4402.995293166156, 14: 4424.314365328619, 15: 4442.943179452285, 16: 4528.57927503009, 17: 4572.28806185627, 18: 4604.034045947238, 19: 4660.524954508328, 20: 4735.352015758023, 21: 4742.329532242572, 22: 4763.606459864159, 23: 4807.076030845482, 24: 4848.127192424658, 25: 4873.610609928121}, 'three_best_feature': {1: 3013.0109985241875, 2: 2813.285969825997, 3: 3171.585284478674, 4: 3182.3137417981943, 5: 3305.9401397969677, 6: 3522.506848900376, 7: 3774.3772094554106, 8: 3978.969124021116, 9: 3992.923680588881, 10: 4076.2381473803043, 11: 4156.388331131807, 12: 4201.10713385948, 13: 4303.62676861325, 14: 4359.693296989702, 15: 4371.771103372868, 16: 4394.4846551644205, 17: 4510.399710057406, 18: 4584.310961865486, 19: 4636.62620477063, 20: 4664.465847866811, 21: 4724.096637428273, 22: 4752.535484102914, 23: 4808.703310452101, 24: 4858.9452710176065, 25: 4904.576331966618}, 'two_best_feature': {1: 4061.9613050304106, 2: 3497.49936199118, 3: 3402.8692636542114, 4: 3587.0044198356923, 5: 3589.3132622073304, 6: 3680.062981095498, 7: 3756.92796407086, 8: 3937.770418264052, 9: 4078.3485919700097, 10: 4163.828373808731, 11: 4297.135962941241, 12: 4370.753019740529, 13: 4500.462028689254, 14: 4604.156707686779, 15: 4595.345097101211, 16: 4605.433669910023, 17: 4611.2845838376215, 18: 4598.88218482117, 19: 4579.964891966457, 20: 4653.966845712387, 21: 4759.076059393234, 22: 4807.805949321809, 23: 4865.320887129985, 24: 4910.715769042787, 25: 4921.936353813013}}\n"
     ]
    },
    {
     "data": {
      "image/png": "[encoded data removed]",
      "text/plain": [
       "<matplotlib.figure.Figure at 0x7f43710fdb00>"
      ]
     },
     "metadata": {},
     "output_type": "display_data"
    }
   ],
   "source": [
    "def knn_train_test(train_columns, target_columns, df):\n",
    "    np.random.seed(1)\n",
    "    random_index = np.random.permutation(df.index)\n",
    "    rand_df = df.reindex(random_index)\n",
    "    training_number = round(len(rand_df)/2)\n",
    "    training_data = rand_df.iloc[0:training_number]\n",
    "    test_data = rand_df.iloc[training_number:]\n",
    "    k_rmse ={}\n",
    "    k_value = [i for i in range(1,26)]\n",
    "    for k in k_value:\n",
    "        model = KNeighborsRegressor(n_neighbors =k)\n",
    "        model.fit(training_data[train_columns],training_data[target_columns])\n",
    "        predictions = model.predict(test_data[train_columns])\n",
    "        mse = mean_squared_error(predictions, test_data[target_columns])\n",
    "        rmse = np.sqrt(mse)\n",
    "        k_rmse[k] = rmse\n",
    "    return k_rmse\n",
    "RMSE ={}\n",
    "two_best_feature = ['horsepower','width']\n",
    "RMSE['two_best_feature'] = knn_train_test(two_best_feature,'price',cars)\n",
    "three_best_feature = ['horsepower','width','curb-weight']\n",
    "RMSE['three_best_feature'] = knn_train_test(three_best_feature,'price',cars)\n",
    "four_best_feature = ['horsepower','width','curb-weight','highway-mpg']\n",
    "RMSE['four_best_feature'] = knn_train_test(four_best_feature,'price',cars)\n",
    "print(RMSE)\n",
    "for k,v in RMSE.items():\n",
    "    x = list(v.keys())\n",
    "    y = list(v.values())\n",
    "    plt.plot(x,y,label=k)\n",
    "    plt.legend(loc=4)"
   ]
  },
  {
   "cell_type": "code",
   "execution_count": null,
   "metadata": {
    "collapsed": true
   },
   "outputs": [],
   "source": []
  }
 ],
 "metadata": {
  "kernelspec": {
   "display_name": "Python 3",
   "language": "python",
   "name": "python3"
  },
  "language_info": {
   "codemirror_mode": {
    "name": "ipython",
    "version": 3
   },
   "file_extension": ".py",
   "mimetype": "text/x-python",
   "name": "python",
   "nbconvert_exporter": "python",
   "pygments_lexer": "ipython3",
   "version": "3.4.3"
  }
 },
 "nbformat": 4,
 "nbformat_minor": 2
}
